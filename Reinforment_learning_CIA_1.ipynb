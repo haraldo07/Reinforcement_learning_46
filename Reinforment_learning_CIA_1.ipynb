{
 "cells": [
  {
   "cell_type": "code",
   "execution_count": 56,
   "id": "8fc6c31b",
   "metadata": {},
   "outputs": [],
   "source": [
    "import pandas as pd\n",
    "import numpy as np\n",
    "import re"
   ]
  },
  {
   "cell_type": "code",
   "execution_count": 57,
   "id": "8125a2b2",
   "metadata": {},
   "outputs": [
    {
     "data": {
      "text/html": [
       "<div>\n",
       "<style scoped>\n",
       "    .dataframe tbody tr th:only-of-type {\n",
       "        vertical-align: middle;\n",
       "    }\n",
       "\n",
       "    .dataframe tbody tr th {\n",
       "        vertical-align: top;\n",
       "    }\n",
       "\n",
       "    .dataframe thead th {\n",
       "        text-align: right;\n",
       "    }\n",
       "</style>\n",
       "<table border=\"1\" class=\"dataframe\">\n",
       "  <thead>\n",
       "    <tr style=\"text-align: right;\">\n",
       "      <th></th>\n",
       "      <th>Anime_id</th>\n",
       "      <th>Title</th>\n",
       "      <th>Genre</th>\n",
       "      <th>Synopsis</th>\n",
       "      <th>Type</th>\n",
       "      <th>Producer</th>\n",
       "      <th>Studio</th>\n",
       "      <th>Rating</th>\n",
       "      <th>ScoredBy</th>\n",
       "      <th>Popularity</th>\n",
       "      <th>Members</th>\n",
       "      <th>Episodes</th>\n",
       "      <th>Source</th>\n",
       "      <th>Aired</th>\n",
       "      <th>Link</th>\n",
       "    </tr>\n",
       "  </thead>\n",
       "  <tbody>\n",
       "    <tr>\n",
       "      <th>0</th>\n",
       "      <td>1</td>\n",
       "      <td>Cowboy Bebop</td>\n",
       "      <td>['Action', 'Adventure', 'Comedy', 'Drama', 'Sc...</td>\n",
       "      <td>In the year 2071, humanity has colonized sever...</td>\n",
       "      <td>TV</td>\n",
       "      <td>['Bandai Visual']</td>\n",
       "      <td>['Sunrise']</td>\n",
       "      <td>8.81</td>\n",
       "      <td>363889.0</td>\n",
       "      <td>39.0</td>\n",
       "      <td>704490.0</td>\n",
       "      <td>26.0</td>\n",
       "      <td>Original</td>\n",
       "      <td>Apr 3, 1998 to Apr 24, 1999</td>\n",
       "      <td>https://myanimelist.net/anime/1/Cowboy_Bebop</td>\n",
       "    </tr>\n",
       "    <tr>\n",
       "      <th>1</th>\n",
       "      <td>5</td>\n",
       "      <td>Cowboy Bebop: Tengoku no Tobira</td>\n",
       "      <td>['Action', 'Space', 'Drama', 'Mystery', 'Sci-Fi']</td>\n",
       "      <td>Another day, another bounty—such is the life o...</td>\n",
       "      <td>Movie</td>\n",
       "      <td>['Sunrise', 'Bandai Visual']</td>\n",
       "      <td>['Bones']</td>\n",
       "      <td>8.41</td>\n",
       "      <td>111187.0</td>\n",
       "      <td>475.0</td>\n",
       "      <td>179899.0</td>\n",
       "      <td>1.0</td>\n",
       "      <td>Original</td>\n",
       "      <td>Sep 1, 2001</td>\n",
       "      <td>https://myanimelist.net/anime/5/Cowboy_Bebop__...</td>\n",
       "    </tr>\n",
       "    <tr>\n",
       "      <th>2</th>\n",
       "      <td>6</td>\n",
       "      <td>Trigun</td>\n",
       "      <td>['Action', 'Sci-Fi', 'Adventure', 'Comedy', 'D...</td>\n",
       "      <td>Vash the Stampede is the man with a $$60,000,0...</td>\n",
       "      <td>TV</td>\n",
       "      <td>['Victor Entertainment']</td>\n",
       "      <td>['Madhouse']</td>\n",
       "      <td>8.31</td>\n",
       "      <td>197451.0</td>\n",
       "      <td>158.0</td>\n",
       "      <td>372709.0</td>\n",
       "      <td>26.0</td>\n",
       "      <td>Manga</td>\n",
       "      <td>Apr 1, 1998 to Sep 30, 1998</td>\n",
       "      <td>https://myanimelist.net/anime/6/Trigun</td>\n",
       "    </tr>\n",
       "    <tr>\n",
       "      <th>3</th>\n",
       "      <td>7</td>\n",
       "      <td>Witch Hunter Robin</td>\n",
       "      <td>['Action', 'Magic', 'Police', 'Supernatural', ...</td>\n",
       "      <td>Witches are individuals with special powers li...</td>\n",
       "      <td>TV</td>\n",
       "      <td>['Bandai Visual']</td>\n",
       "      <td>['Sunrise']</td>\n",
       "      <td>7.34</td>\n",
       "      <td>31875.0</td>\n",
       "      <td>1278.0</td>\n",
       "      <td>74889.0</td>\n",
       "      <td>26.0</td>\n",
       "      <td>Original</td>\n",
       "      <td>Jul 2, 2002 to Dec 24, 2002</td>\n",
       "      <td>https://myanimelist.net/anime/7/Witch_Hunter_R...</td>\n",
       "    </tr>\n",
       "    <tr>\n",
       "      <th>4</th>\n",
       "      <td>8</td>\n",
       "      <td>Bouken Ou Beet</td>\n",
       "      <td>['Adventure', 'Fantasy', 'Shounen', 'Supernatu...</td>\n",
       "      <td>It is the dark century and the people are suff...</td>\n",
       "      <td>TV</td>\n",
       "      <td>NaN</td>\n",
       "      <td>['Toei Animation']</td>\n",
       "      <td>7.04</td>\n",
       "      <td>4757.0</td>\n",
       "      <td>3968.0</td>\n",
       "      <td>11247.0</td>\n",
       "      <td>52.0</td>\n",
       "      <td>Manga</td>\n",
       "      <td>Sep 30, 2004 to Sep 29, 2005</td>\n",
       "      <td>https://myanimelist.net/anime/8/Bouken_Ou_Beet</td>\n",
       "    </tr>\n",
       "  </tbody>\n",
       "</table>\n",
       "</div>"
      ],
      "text/plain": [
       "   Anime_id                            Title  \\\n",
       "0         1                     Cowboy Bebop   \n",
       "1         5  Cowboy Bebop: Tengoku no Tobira   \n",
       "2         6                           Trigun   \n",
       "3         7               Witch Hunter Robin   \n",
       "4         8                   Bouken Ou Beet   \n",
       "\n",
       "                                               Genre  \\\n",
       "0  ['Action', 'Adventure', 'Comedy', 'Drama', 'Sc...   \n",
       "1  ['Action', 'Space', 'Drama', 'Mystery', 'Sci-Fi']   \n",
       "2  ['Action', 'Sci-Fi', 'Adventure', 'Comedy', 'D...   \n",
       "3  ['Action', 'Magic', 'Police', 'Supernatural', ...   \n",
       "4  ['Adventure', 'Fantasy', 'Shounen', 'Supernatu...   \n",
       "\n",
       "                                            Synopsis   Type  \\\n",
       "0  In the year 2071, humanity has colonized sever...     TV   \n",
       "1  Another day, another bounty—such is the life o...  Movie   \n",
       "2  Vash the Stampede is the man with a $$60,000,0...     TV   \n",
       "3  Witches are individuals with special powers li...     TV   \n",
       "4  It is the dark century and the people are suff...     TV   \n",
       "\n",
       "                       Producer              Studio  Rating  ScoredBy  \\\n",
       "0             ['Bandai Visual']         ['Sunrise']    8.81  363889.0   \n",
       "1  ['Sunrise', 'Bandai Visual']           ['Bones']    8.41  111187.0   \n",
       "2      ['Victor Entertainment']        ['Madhouse']    8.31  197451.0   \n",
       "3             ['Bandai Visual']         ['Sunrise']    7.34   31875.0   \n",
       "4                           NaN  ['Toei Animation']    7.04    4757.0   \n",
       "\n",
       "   Popularity   Members  Episodes    Source                         Aired  \\\n",
       "0        39.0  704490.0      26.0  Original   Apr 3, 1998 to Apr 24, 1999   \n",
       "1       475.0  179899.0       1.0  Original                   Sep 1, 2001   \n",
       "2       158.0  372709.0      26.0     Manga   Apr 1, 1998 to Sep 30, 1998   \n",
       "3      1278.0   74889.0      26.0  Original   Jul 2, 2002 to Dec 24, 2002   \n",
       "4      3968.0   11247.0      52.0     Manga  Sep 30, 2004 to Sep 29, 2005   \n",
       "\n",
       "                                                Link  \n",
       "0       https://myanimelist.net/anime/1/Cowboy_Bebop  \n",
       "1  https://myanimelist.net/anime/5/Cowboy_Bebop__...  \n",
       "2             https://myanimelist.net/anime/6/Trigun  \n",
       "3  https://myanimelist.net/anime/7/Witch_Hunter_R...  \n",
       "4     https://myanimelist.net/anime/8/Bouken_Ou_Beet  "
      ]
     },
     "execution_count": 57,
     "metadata": {},
     "output_type": "execute_result"
    }
   ],
   "source": [
    "df=pd.read_csv('Anime_data.csv')\n",
    "df.head()"
   ]
  },
  {
   "cell_type": "code",
   "execution_count": 58,
   "id": "d5ee4e92",
   "metadata": {},
   "outputs": [
    {
     "name": "stdout",
     "output_type": "stream",
     "text": [
      "<class 'pandas.core.frame.DataFrame'>\n",
      "RangeIndex: 17002 entries, 0 to 17001\n",
      "Data columns (total 15 columns):\n",
      " #   Column      Non-Null Count  Dtype  \n",
      "---  ------      --------------  -----  \n",
      " 0   Anime_id    17002 non-null  int64  \n",
      " 1   Title       17002 non-null  object \n",
      " 2   Genre       14990 non-null  object \n",
      " 3   Synopsis    15583 non-null  object \n",
      " 4   Type        16368 non-null  object \n",
      " 5   Producer    7635 non-null   object \n",
      " 6   Studio      7919 non-null   object \n",
      " 7   Rating      14425 non-null  float64\n",
      " 8   ScoredBy    13227 non-null  float64\n",
      " 9   Popularity  16368 non-null  float64\n",
      " 10  Members     17002 non-null  float64\n",
      " 11  Episodes    14085 non-null  float64\n",
      " 12  Source      15075 non-null  object \n",
      " 13  Aired       16368 non-null  object \n",
      " 14  Link        16368 non-null  object \n",
      "dtypes: float64(5), int64(1), object(9)\n",
      "memory usage: 1.9+ MB\n"
     ]
    }
   ],
   "source": [
    "df.info()"
   ]
  },
  {
   "cell_type": "code",
   "execution_count": 59,
   "id": "832884b6",
   "metadata": {},
   "outputs": [
    {
     "name": "stdout",
     "output_type": "stream",
     "text": [
      "<class 'pandas.core.frame.DataFrame'>\n",
      "RangeIndex: 12249 entries, 0 to 12248\n",
      "Data columns (total 12 columns):\n",
      " #   Column      Non-Null Count  Dtype  \n",
      "---  ------      --------------  -----  \n",
      " 0   Anime_id    12249 non-null  int64  \n",
      " 1   Title       12249 non-null  object \n",
      " 2   Genre       12249 non-null  object \n",
      " 3   Synopsis    12249 non-null  object \n",
      " 4   Type        12249 non-null  object \n",
      " 5   Rating      12249 non-null  float64\n",
      " 6   Popularity  12249 non-null  float64\n",
      " 7   Members     12249 non-null  float64\n",
      " 8   Episodes    12249 non-null  float64\n",
      " 9   Source      12249 non-null  object \n",
      " 10  Aired       12249 non-null  object \n",
      " 11  Link        12249 non-null  object \n",
      "dtypes: float64(4), int64(1), object(7)\n",
      "memory usage: 1.1+ MB\n"
     ]
    }
   ],
   "source": [
    "df.drop(columns=['Producer','Studio','ScoredBy'],inplace=True)\n",
    "df.dropna(inplace=True)\n",
    "df.reset_index(inplace=True, drop=True)\n",
    "df.info()"
   ]
  },
  {
   "cell_type": "code",
   "execution_count": 60,
   "id": "9f63594e-a071-436d-95ca-37b6b669d6f6",
   "metadata": {},
   "outputs": [
    {
     "data": {
      "text/html": [
       "<div>\n",
       "<style scoped>\n",
       "    .dataframe tbody tr th:only-of-type {\n",
       "        vertical-align: middle;\n",
       "    }\n",
       "\n",
       "    .dataframe tbody tr th {\n",
       "        vertical-align: top;\n",
       "    }\n",
       "\n",
       "    .dataframe thead th {\n",
       "        text-align: right;\n",
       "    }\n",
       "</style>\n",
       "<table border=\"1\" class=\"dataframe\">\n",
       "  <thead>\n",
       "    <tr style=\"text-align: right;\">\n",
       "      <th></th>\n",
       "      <th>Anime_id</th>\n",
       "      <th>Title</th>\n",
       "      <th>Genre</th>\n",
       "      <th>Synopsis</th>\n",
       "      <th>Type</th>\n",
       "      <th>Rating</th>\n",
       "      <th>Popularity</th>\n",
       "      <th>Members</th>\n",
       "      <th>Episodes</th>\n",
       "      <th>Source</th>\n",
       "      <th>Aired</th>\n",
       "      <th>Link</th>\n",
       "    </tr>\n",
       "  </thead>\n",
       "  <tbody>\n",
       "    <tr>\n",
       "      <th>0</th>\n",
       "      <td>6</td>\n",
       "      <td>Trigun</td>\n",
       "      <td>['Action', 'Sci-Fi', 'Adventure', 'Comedy', 'D...</td>\n",
       "      <td>Vash the Stampede is the man with a $$60,000,0...</td>\n",
       "      <td>TV</td>\n",
       "      <td>8.31</td>\n",
       "      <td>158.0</td>\n",
       "      <td>372709.0</td>\n",
       "      <td>26.0</td>\n",
       "      <td>Manga</td>\n",
       "      <td>Apr 1, 1998 to Sep 30, 1998</td>\n",
       "      <td>https://myanimelist.net/anime/6/Trigun</td>\n",
       "    </tr>\n",
       "    <tr>\n",
       "      <th>1</th>\n",
       "      <td>8</td>\n",
       "      <td>Bouken Ou Beet</td>\n",
       "      <td>['Adventure', 'Fantasy', 'Shounen', 'Supernatu...</td>\n",
       "      <td>It is the dark century and the people are suff...</td>\n",
       "      <td>TV</td>\n",
       "      <td>7.04</td>\n",
       "      <td>3968.0</td>\n",
       "      <td>11247.0</td>\n",
       "      <td>52.0</td>\n",
       "      <td>Manga</td>\n",
       "      <td>Sep 30, 2004 to Sep 29, 2005</td>\n",
       "      <td>https://myanimelist.net/anime/8/Bouken_Ou_Beet</td>\n",
       "    </tr>\n",
       "    <tr>\n",
       "      <th>2</th>\n",
       "      <td>15</td>\n",
       "      <td>Eyeshield 21</td>\n",
       "      <td>['Action', 'Sports', 'Comedy', 'Shounen']</td>\n",
       "      <td>Sena is like any other shy kid starting high s...</td>\n",
       "      <td>TV</td>\n",
       "      <td>8.05</td>\n",
       "      <td>888.0</td>\n",
       "      <td>106468.0</td>\n",
       "      <td>145.0</td>\n",
       "      <td>Manga</td>\n",
       "      <td>Apr 6, 2005 to Mar 19, 2008</td>\n",
       "      <td>https://myanimelist.net/anime/15/Eyeshield_21</td>\n",
       "    </tr>\n",
       "    <tr>\n",
       "      <th>3</th>\n",
       "      <td>17</td>\n",
       "      <td>Hungry Heart: Wild Striker</td>\n",
       "      <td>['Slice of Life', 'Comedy', 'Sports', 'Shounen']</td>\n",
       "      <td>Kyosuke Kano has lived under the shadow of his...</td>\n",
       "      <td>TV</td>\n",
       "      <td>7.69</td>\n",
       "      <td>3330.0</td>\n",
       "      <td>16132.0</td>\n",
       "      <td>52.0</td>\n",
       "      <td>Manga</td>\n",
       "      <td>Sep 11, 2002 to Sep 10, 2003</td>\n",
       "      <td>https://myanimelist.net/anime/17/Hungry_Heart_...</td>\n",
       "    </tr>\n",
       "    <tr>\n",
       "      <th>4</th>\n",
       "      <td>20</td>\n",
       "      <td>Naruto</td>\n",
       "      <td>['Action', 'Adventure', 'Comedy', 'Super Power...</td>\n",
       "      <td>Moments prior to Naruto Uzumaki's birth, a hug...</td>\n",
       "      <td>TV</td>\n",
       "      <td>7.88</td>\n",
       "      <td>9.0</td>\n",
       "      <td>975394.0</td>\n",
       "      <td>220.0</td>\n",
       "      <td>Manga</td>\n",
       "      <td>Oct 3, 2002 to Feb 8, 2007</td>\n",
       "      <td>https://myanimelist.net/anime/20/Naruto</td>\n",
       "    </tr>\n",
       "  </tbody>\n",
       "</table>\n",
       "</div>"
      ],
      "text/plain": [
       "   Anime_id                       Title  \\\n",
       "0         6                      Trigun   \n",
       "1         8              Bouken Ou Beet   \n",
       "2        15                Eyeshield 21   \n",
       "3        17  Hungry Heart: Wild Striker   \n",
       "4        20                      Naruto   \n",
       "\n",
       "                                               Genre  \\\n",
       "0  ['Action', 'Sci-Fi', 'Adventure', 'Comedy', 'D...   \n",
       "1  ['Adventure', 'Fantasy', 'Shounen', 'Supernatu...   \n",
       "2          ['Action', 'Sports', 'Comedy', 'Shounen']   \n",
       "3   ['Slice of Life', 'Comedy', 'Sports', 'Shounen']   \n",
       "4  ['Action', 'Adventure', 'Comedy', 'Super Power...   \n",
       "\n",
       "                                            Synopsis Type  Rating  Popularity  \\\n",
       "0  Vash the Stampede is the man with a $$60,000,0...   TV    8.31       158.0   \n",
       "1  It is the dark century and the people are suff...   TV    7.04      3968.0   \n",
       "2  Sena is like any other shy kid starting high s...   TV    8.05       888.0   \n",
       "3  Kyosuke Kano has lived under the shadow of his...   TV    7.69      3330.0   \n",
       "4  Moments prior to Naruto Uzumaki's birth, a hug...   TV    7.88         9.0   \n",
       "\n",
       "    Members  Episodes Source                         Aired  \\\n",
       "0  372709.0      26.0  Manga   Apr 1, 1998 to Sep 30, 1998   \n",
       "1   11247.0      52.0  Manga  Sep 30, 2004 to Sep 29, 2005   \n",
       "2  106468.0     145.0  Manga   Apr 6, 2005 to Mar 19, 2008   \n",
       "3   16132.0      52.0  Manga  Sep 11, 2002 to Sep 10, 2003   \n",
       "4  975394.0     220.0  Manga    Oct 3, 2002 to Feb 8, 2007   \n",
       "\n",
       "                                                Link  \n",
       "0             https://myanimelist.net/anime/6/Trigun  \n",
       "1     https://myanimelist.net/anime/8/Bouken_Ou_Beet  \n",
       "2      https://myanimelist.net/anime/15/Eyeshield_21  \n",
       "3  https://myanimelist.net/anime/17/Hungry_Heart_...  \n",
       "4            https://myanimelist.net/anime/20/Naruto  "
      ]
     },
     "execution_count": 60,
     "metadata": {},
     "output_type": "execute_result"
    }
   ],
   "source": [
    "new_df = df[df['Genre'].str.contains('Shounen')].reset_index(drop=True)\n",
    "new_df = new_df.iloc[:100]\n",
    "new_df.head()"
   ]
  },
  {
   "cell_type": "code",
   "execution_count": 61,
   "id": "ba3e7ec5",
   "metadata": {},
   "outputs": [
    {
     "data": {
      "text/plain": [
       "<Compressed Sparse Row sparse matrix of dtype 'float64'\n",
       "\twith 592 stored elements and shape (100, 39)>"
      ]
     },
     "execution_count": 61,
     "metadata": {},
     "output_type": "execute_result"
    }
   ],
   "source": [
    "from sklearn.feature_extraction.text import TfidfVectorizer\n",
    "tfidf = TfidfVectorizer(stop_words='english')\n",
    "\n",
    "tfidf_mat = tfidf.fit_transform(new_df['Genre'])\n",
    "tfidf_mat"
   ]
  },
  {
   "cell_type": "code",
   "execution_count": 62,
   "id": "6397d275",
   "metadata": {},
   "outputs": [
    {
     "data": {
      "text/plain": [
       "array([[1.        , 0.22103498, 0.35337136, ..., 0.17344145, 0.18991049,\n",
       "        0.07129958],\n",
       "       [0.22103498, 1.        , 0.06532989, ..., 0.2520705 , 0.03897502,\n",
       "        0.08424544],\n",
       "       [0.35337136, 0.06532989, 1.        , ..., 0.23195583, 0.04411429,\n",
       "        0.77547095],\n",
       "       ...,\n",
       "       [0.17344145, 0.2520705 , 0.23195583, ..., 1.        , 0.02165214,\n",
       "        0.04680162],\n",
       "       [0.18991049, 0.03897502, 0.04411429, ..., 0.02165214, 1.        ,\n",
       "        0.05688709],\n",
       "       [0.07129958, 0.08424544, 0.77547095, ..., 0.04680162, 0.05688709,\n",
       "        1.        ]])"
      ]
     },
     "execution_count": 62,
     "metadata": {},
     "output_type": "execute_result"
    }
   ],
   "source": [
    "from sklearn.metrics.pairwise import linear_kernel\n",
    "\n",
    "cosine_sim = linear_kernel(tfidf_mat,tfidf_mat)\n",
    "cosine_sim"
   ]
  },
  {
   "cell_type": "code",
   "execution_count": 64,
   "id": "45aa3105",
   "metadata": {},
   "outputs": [
    {
     "data": {
      "text/html": [
       "<div>\n",
       "<style scoped>\n",
       "    .dataframe tbody tr th:only-of-type {\n",
       "        vertical-align: middle;\n",
       "    }\n",
       "\n",
       "    .dataframe tbody tr th {\n",
       "        vertical-align: top;\n",
       "    }\n",
       "\n",
       "    .dataframe thead th {\n",
       "        text-align: right;\n",
       "    }\n",
       "</style>\n",
       "<table border=\"1\" class=\"dataframe\">\n",
       "  <thead>\n",
       "    <tr style=\"text-align: right;\">\n",
       "      <th></th>\n",
       "      <th>Genre</th>\n",
       "    </tr>\n",
       "  </thead>\n",
       "  <tbody>\n",
       "    <tr>\n",
       "      <th>0</th>\n",
       "      <td>['Action', 'Sci-Fi', 'Adventure', 'Comedy', 'D...</td>\n",
       "    </tr>\n",
       "    <tr>\n",
       "      <th>1</th>\n",
       "      <td>['Adventure', 'Fantasy', 'Shounen', 'Supernatu...</td>\n",
       "    </tr>\n",
       "    <tr>\n",
       "      <th>2</th>\n",
       "      <td>['Action', 'Sports', 'Comedy', 'Shounen']</td>\n",
       "    </tr>\n",
       "    <tr>\n",
       "      <th>3</th>\n",
       "      <td>['Slice of Life', 'Comedy', 'Sports', 'Shounen']</td>\n",
       "    </tr>\n",
       "    <tr>\n",
       "      <th>4</th>\n",
       "      <td>['Action', 'Adventure', 'Comedy', 'Super Power...</td>\n",
       "    </tr>\n",
       "    <tr>\n",
       "      <th>...</th>\n",
       "      <td>...</td>\n",
       "    </tr>\n",
       "    <tr>\n",
       "      <th>95</th>\n",
       "      <td>['Sports', 'Drama', 'Romance', 'Shounen']</td>\n",
       "    </tr>\n",
       "    <tr>\n",
       "      <th>96</th>\n",
       "      <td>['Adventure', 'Fantasy', 'Shounen']</td>\n",
       "    </tr>\n",
       "    <tr>\n",
       "      <th>97</th>\n",
       "      <td>['Action', 'Comedy', 'Demons', 'Supernatural',...</td>\n",
       "    </tr>\n",
       "    <tr>\n",
       "      <th>98</th>\n",
       "      <td>['Romance', 'Samurai', 'Historical', 'Drama', ...</td>\n",
       "    </tr>\n",
       "    <tr>\n",
       "      <th>99</th>\n",
       "      <td>['Shounen', 'Sports']</td>\n",
       "    </tr>\n",
       "  </tbody>\n",
       "</table>\n",
       "<p>100 rows × 1 columns</p>\n",
       "</div>"
      ],
      "text/plain": [
       "                                                Genre\n",
       "0   ['Action', 'Sci-Fi', 'Adventure', 'Comedy', 'D...\n",
       "1   ['Adventure', 'Fantasy', 'Shounen', 'Supernatu...\n",
       "2           ['Action', 'Sports', 'Comedy', 'Shounen']\n",
       "3    ['Slice of Life', 'Comedy', 'Sports', 'Shounen']\n",
       "4   ['Action', 'Adventure', 'Comedy', 'Super Power...\n",
       "..                                                ...\n",
       "95          ['Sports', 'Drama', 'Romance', 'Shounen']\n",
       "96                ['Adventure', 'Fantasy', 'Shounen']\n",
       "97  ['Action', 'Comedy', 'Demons', 'Supernatural',...\n",
       "98  ['Romance', 'Samurai', 'Historical', 'Drama', ...\n",
       "99                              ['Shounen', 'Sports']\n",
       "\n",
       "[100 rows x 1 columns]"
      ]
     },
     "execution_count": 64,
     "metadata": {},
     "output_type": "execute_result"
    }
   ],
   "source": [
    "data = pd.Series(new_df['Genre'],index = new_df.index)\n",
    "data = pd.DataFrame(data)\n",
    "data"
   ]
  },
  {
   "cell_type": "code",
   "execution_count": 34,
   "id": "8bec26b1-3cea-462c-b288-61332b2b5064",
   "metadata": {},
   "outputs": [
    {
     "name": "stdout",
     "output_type": "stream",
     "text": [
      "(1564, 1566)\n",
      "(1564, 1564)\n"
     ]
    }
   ],
   "source": [
    "mask = np.ones(ab.shape[0], dtype=bool)\n",
    "mask[[3,4]] = False\n",
    "arr_no_rows = ab[mask]\n",
    "print(arr_no_rows.shape)\n",
    "mask = np.ones(arr_no_rows.shape[1], dtype=bool)\n",
    "mask[[3,4]] = False\n",
    "arr_no_rows_no_cols = arr_no_rows[:, mask]\n",
    "print(arr_no_rows_no_cols.shape)"
   ]
  },
  {
   "cell_type": "code",
   "execution_count": 163,
   "id": "d68f360d",
   "metadata": {},
   "outputs": [],
   "source": [
    "class ItemRecommender:\n",
    "    def __init__(self, df_new):\n",
    "        self.data = data\n",
    "        self.cosine_sim = cosine_sim\n",
    "        self.df = df_new\n",
    "        self.ram = 'Shounen'\n",
    "        self.len_df = len(self.df)\n",
    "        \n",
    "    def recommendation(self, keyword):\n",
    "        index = self.data[self.data['Genre'].str.contains(keyword, flags=re.IGNORECASE, regex=True)].index[0]\n",
    "        sim_score = list(enumerate(self.cosine_sim[index]))    \n",
    "        sim_score = sorted(sim_score, key=lambda x: x[1], reverse=True)\n",
    "        sim_score = sim_score[:10]\n",
    "        final_index = [i[0] for i in sim_score]\n",
    "        return final_index\n",
    "\n",
    "    def remove_mat(self, idx):\n",
    "        mask = np.ones(self.cosine_sim.shape[0], dtype=bool)\n",
    "        mask[idx] = False\n",
    "        arr_no_rows = self.cosine_sim[mask]\n",
    "        \n",
    "        mask = np.ones(arr_no_rows.shape[1], dtype=bool)\n",
    "        mask[idx] = False\n",
    "        self.cosine_sim = arr_no_rows[:, mask]\n",
    "        \n",
    "    def predict(self):\n",
    "        idx = self.recommendation(self.ram)\n",
    "        b = pd.DataFrame()\n",
    "        b['Title'] = self.df['Title'].iloc[idx]   \n",
    "        b.reset_index(drop=True,inplace=True)\n",
    "        self.remove_mat(idx)\n",
    "        self.df = self.df.drop(index=idx).reset_index(drop=True)\n",
    "        self.data = self.data.drop(index=idx).reset_index(drop=True)\n",
    "        \n",
    "        return b\n",
    "\n",
    "    def re_learn_init(self):\n",
    "        # Asking users for reward\n",
    "        results = []\n",
    "        count = 0\n",
    "        while True:\n",
    "            rec_anime = self.predict()\n",
    "            print(f\"Recommendation set {count+1} : \", list(rec_anime['Title']))        \n",
    "            reward = float(input(\"Give a reward for this set [0.0 - 7.0]: \"))\n",
    "            print(\"\\n\")\n",
    "            rec_anime['Reward'] = reward\n",
    "            results.append(rec_anime[['Title', 'Reward']])            \n",
    "            count+=1            \n",
    "            if count >= (self.len_df/10):\n",
    "                break\n",
    "        re_df = pd.concat(results, ignore_index=True)\n",
    "        \n",
    "        return re_df\n",
    "\n",
    "    def compute_eff(self, q):\n",
    "        # 7 is the target reward and step size is 0.1\n",
    "        new_q = q + (1/10)*(7-q)\n",
    "        return new_q\n",
    "        \n",
    "    def re_learn_process(self):\n",
    "        re_df = self.re_learn_init()\n",
    "        re_df[\"New_Reward\"] = re_df['Reward']\n",
    "        for i in range(1,101):\n",
    "            re_df['New_Reward'] = re_df['New_Reward'].apply(lambda q: self.compute_eff(q))\n",
    "        return re_df\n",
    "        "
   ]
  },
  {
   "cell_type": "code",
   "execution_count": 164,
   "id": "3c860126",
   "metadata": {},
   "outputs": [
    {
     "name": "stdout",
     "output_type": "stream",
     "text": [
      "Recommendation set 1 :  ['Trigun', 'Viewtiful Joe', 'Bakuten Shoot Beyblade', 'Sunabouzu', 'Gate Keepers 21', 'Scrapped Princess', 'Kidou Tenshi Angelic Layer', 'Ou Dorobou Jing', 'Chuuka Ichiban!', \"E's Otherwise\"]\n"
     ]
    },
    {
     "name": "stdin",
     "output_type": "stream",
     "text": [
      "Give a reward for this set [0.0 - 7.0]:  4.2\n"
     ]
    },
    {
     "name": "stdout",
     "output_type": "stream",
     "text": [
      "\n",
      "\n",
      "Recommendation set 2 :  ['Bouken Ou Beet', 'Tales of Phantasia The Animation', 'Lodoss-tou Senki', 'Tsubasa Chronicle', 'Gensoumaden Saiyuuki', 'Shaman King', 'Groove Adventure Rave', 'Avenger', 'Mahoujin Guruguru', 'Dokidoki♡Densetsu: Mahoujin Guruguru']\n"
     ]
    },
    {
     "name": "stdin",
     "output_type": "stream",
     "text": [
      "Give a reward for this set [0.0 - 7.0]:  1.1\n"
     ]
    },
    {
     "name": "stdout",
     "output_type": "stream",
     "text": [
      "\n",
      "\n",
      "Recommendation set 3 :  ['Eyeshield 21', 'Ring ni Kakero 1', 'Hajime no Ippo: Champion Road', 'Hajime no Ippo: Mashiba vs. Kimura', 'Buzzer Beater', 'Tennis no Ouji-sama', 'Hajime no Ippo', 'H2', \"I'll/CKBC\", 'Dan Doh!!']\n"
     ]
    },
    {
     "name": "stdin",
     "output_type": "stream",
     "text": [
      "Give a reward for this set [0.0 - 7.0]:  2.9\n"
     ]
    },
    {
     "name": "stdout",
     "output_type": "stream",
     "text": [
      "\n",
      "\n",
      "Recommendation set 4 :  ['Hungry Heart: Wild Striker', 'Boys Be...', 'Great Teacher Onizuka', 'Beck', 'Love Hina', 'Gunparade March: Arata Naru Kougunka', 'Asagiri no Miko', 'Dear Boys', 'Slam Dunk', 'Whistle!']\n"
     ]
    },
    {
     "name": "stdin",
     "output_type": "stream",
     "text": [
      "Give a reward for this set [0.0 - 7.0]:  3.6\n"
     ]
    },
    {
     "name": "stdout",
     "output_type": "stream",
     "text": [
      "\n",
      "\n",
      "Recommendation set 5 :  ['Naruto', 'Rekka no Honoo', 'Dragon Ball', 'Tenjou Tenge', 'Hunter x Hunter', 'Hunter x Hunter: Yorkshin City Kanketsu-hen', 'Hunter x Hunter: Greed Island', 'Hunter x Hunter: Greed Island Final', 'Grappler Baki (TV)', 'Bleach']\n"
     ]
    },
    {
     "name": "stdin",
     "output_type": "stream",
     "text": [
      "Give a reward for this set [0.0 - 7.0]:  7\n"
     ]
    },
    {
     "name": "stdout",
     "output_type": "stream",
     "text": [
      "\n",
      "\n",
      "Recommendation set 6 :  ['School Rumble', 'Sakigake!! Cromartie Koukou', 'Pita Ten', 'Tenshi na Konamaiki', 'Mahou Sensei Negima!', 'Love Hina Again', 'Midori no Hibi', 'Yakitate!! Japan', 'Suzuka', 'Ichigo 100%']\n"
     ]
    },
    {
     "name": "stdin",
     "output_type": "stream",
     "text": [
      "Give a reward for this set [0.0 - 7.0]:  5.8\n"
     ]
    },
    {
     "name": "stdout",
     "output_type": "stream",
     "text": [
      "\n",
      "\n",
      "Recommendation set 7 :  ['Rurouni Kenshin: Meiji Kenkaku Romantan - Ishinshishi e no Chinkonka', 'Rurouni Kenshin: Meiji Kenkaku Romantan - Seisou-hen', 'Peace Maker Kurogane', 'Samurai Champloo', 'Mutsu Enmei Ryuu Gaiden: Shura no Toki', 'Power Stone', 'Tactics', 'InuYasha (TV)', 'Spiral: Suiri no Kizuna', 'Area 88 (TV)']\n"
     ]
    },
    {
     "name": "stdin",
     "output_type": "stream",
     "text": [
      "Give a reward for this set [0.0 - 7.0]:  0\n"
     ]
    },
    {
     "name": "stdout",
     "output_type": "stream",
     "text": [
      "\n",
      "\n",
      "Recommendation set 8 :  ['Appleseed (Movie)', 'Macross Zero', 'Burn Up Excess', 'Gate Keepers', 'Gad Guard', \"B'T X\", 'Kidou Senkan Nadesico', 'Xenosaga The Animation', 'Kidou Senkan Nadesico: The Prince of Darkness', 'Vandread']\n"
     ]
    },
    {
     "name": "stdin",
     "output_type": "stream",
     "text": [
      "Give a reward for this set [0.0 - 7.0]:  3.3\n"
     ]
    },
    {
     "name": "stdout",
     "output_type": "stream",
     "text": [
      "\n",
      "\n",
      "Recommendation set 9 :  ['Black Cat', 'Tokyo Underground', 'Dragon Ball GT', 'GetBackers', '.hack//Tasogare no Udewa Densetsu', 'eX-Driver', 'Heppoko Jikken Animation Excel♥Saga', 'Vandread: The Second Stage', 'Grenadier: Hohoemi no Senshi', 'Boukyaku no Senritsu']\n"
     ]
    },
    {
     "name": "stdin",
     "output_type": "stream",
     "text": [
      "Give a reward for this set [0.0 - 7.0]:  6.2\n"
     ]
    },
    {
     "name": "stdout",
     "output_type": "stream",
     "text": [
      "\n",
      "\n",
      "Recommendation set 10 :  ['Ou Dorobou Jing in Seventh Heaven', 'Madlax', 'Fullmetal Alchemist', 'Loveless', 'Hikaru no Go', 'Matantei Loki Ragnarok', 'Fake', 'Yuu☆Yuu☆Hakusho', 'Gravitation', 'Kannazuki no Miko']\n"
     ]
    },
    {
     "name": "stdin",
     "output_type": "stream",
     "text": [
      "Give a reward for this set [0.0 - 7.0]:  0.4\n"
     ]
    },
    {
     "name": "stdout",
     "output_type": "stream",
     "text": [
      "\n",
      "\n"
     ]
    }
   ],
   "source": [
    "rec=ItemRecommender(new_df)\n",
    "a=rec.re_learn_process()"
   ]
  },
  {
   "cell_type": "code",
   "execution_count": 165,
   "id": "2f29a7df-b0b0-4ab3-a7ef-38d564652eee",
   "metadata": {},
   "outputs": [
    {
     "data": {
      "text/html": [
       "<div>\n",
       "<style scoped>\n",
       "    .dataframe tbody tr th:only-of-type {\n",
       "        vertical-align: middle;\n",
       "    }\n",
       "\n",
       "    .dataframe tbody tr th {\n",
       "        vertical-align: top;\n",
       "    }\n",
       "\n",
       "    .dataframe thead th {\n",
       "        text-align: right;\n",
       "    }\n",
       "</style>\n",
       "<table border=\"1\" class=\"dataframe\">\n",
       "  <thead>\n",
       "    <tr style=\"text-align: right;\">\n",
       "      <th></th>\n",
       "      <th>Title</th>\n",
       "      <th>Reward</th>\n",
       "      <th>New_Reward</th>\n",
       "    </tr>\n",
       "  </thead>\n",
       "  <tbody>\n",
       "    <tr>\n",
       "      <th>0</th>\n",
       "      <td>Trigun</td>\n",
       "      <td>4.2</td>\n",
       "      <td>6.999926</td>\n",
       "    </tr>\n",
       "    <tr>\n",
       "      <th>1</th>\n",
       "      <td>Viewtiful Joe</td>\n",
       "      <td>4.2</td>\n",
       "      <td>6.999926</td>\n",
       "    </tr>\n",
       "    <tr>\n",
       "      <th>2</th>\n",
       "      <td>Bakuten Shoot Beyblade</td>\n",
       "      <td>4.2</td>\n",
       "      <td>6.999926</td>\n",
       "    </tr>\n",
       "    <tr>\n",
       "      <th>3</th>\n",
       "      <td>Sunabouzu</td>\n",
       "      <td>4.2</td>\n",
       "      <td>6.999926</td>\n",
       "    </tr>\n",
       "    <tr>\n",
       "      <th>4</th>\n",
       "      <td>Gate Keepers 21</td>\n",
       "      <td>4.2</td>\n",
       "      <td>6.999926</td>\n",
       "    </tr>\n",
       "    <tr>\n",
       "      <th>...</th>\n",
       "      <td>...</td>\n",
       "      <td>...</td>\n",
       "      <td>...</td>\n",
       "    </tr>\n",
       "    <tr>\n",
       "      <th>95</th>\n",
       "      <td>Matantei Loki Ragnarok</td>\n",
       "      <td>0.4</td>\n",
       "      <td>6.999825</td>\n",
       "    </tr>\n",
       "    <tr>\n",
       "      <th>96</th>\n",
       "      <td>Fake</td>\n",
       "      <td>0.4</td>\n",
       "      <td>6.999825</td>\n",
       "    </tr>\n",
       "    <tr>\n",
       "      <th>97</th>\n",
       "      <td>Yuu☆Yuu☆Hakusho</td>\n",
       "      <td>0.4</td>\n",
       "      <td>6.999825</td>\n",
       "    </tr>\n",
       "    <tr>\n",
       "      <th>98</th>\n",
       "      <td>Gravitation</td>\n",
       "      <td>0.4</td>\n",
       "      <td>6.999825</td>\n",
       "    </tr>\n",
       "    <tr>\n",
       "      <th>99</th>\n",
       "      <td>Kannazuki no Miko</td>\n",
       "      <td>0.4</td>\n",
       "      <td>6.999825</td>\n",
       "    </tr>\n",
       "  </tbody>\n",
       "</table>\n",
       "<p>100 rows × 3 columns</p>\n",
       "</div>"
      ],
      "text/plain": [
       "                     Title  Reward  New_Reward\n",
       "0                   Trigun     4.2    6.999926\n",
       "1            Viewtiful Joe     4.2    6.999926\n",
       "2   Bakuten Shoot Beyblade     4.2    6.999926\n",
       "3                Sunabouzu     4.2    6.999926\n",
       "4          Gate Keepers 21     4.2    6.999926\n",
       "..                     ...     ...         ...\n",
       "95  Matantei Loki Ragnarok     0.4    6.999825\n",
       "96                    Fake     0.4    6.999825\n",
       "97         Yuu☆Yuu☆Hakusho     0.4    6.999825\n",
       "98             Gravitation     0.4    6.999825\n",
       "99       Kannazuki no Miko     0.4    6.999825\n",
       "\n",
       "[100 rows x 3 columns]"
      ]
     },
     "execution_count": 165,
     "metadata": {},
     "output_type": "execute_result"
    }
   ],
   "source": [
    "a"
   ]
  },
  {
   "cell_type": "markdown",
   "id": "24514ab6-a7e2-43ce-b8a5-aaa578218212",
   "metadata": {},
   "source": [
    "### All Anime are close to reaching the target reward of 7"
   ]
  },
  {
   "cell_type": "code",
   "execution_count": 175,
   "id": "e6b706e6-099e-436a-be0b-31b6c66dbe6a",
   "metadata": {},
   "outputs": [
    {
     "name": "stdout",
     "output_type": "stream",
     "text": [
      "[4.2, 6.999925628083115]\n",
      "[4.2, 6.999925628083115]\n",
      "[4.2, 6.999925628083115]\n",
      "[4.2, 6.999925628083115]\n",
      "[4.2, 6.999925628083115]\n",
      "[4.2, 6.999925628083115]\n",
      "[4.2, 6.999925628083115]\n",
      "[4.2, 6.999925628083115]\n",
      "[4.2, 6.999925628083115]\n",
      "[4.2, 6.999925628083115]\n",
      "[1.1, 6.999843287746562]\n",
      "[1.1, 6.999843287746562]\n",
      "[1.1, 6.999843287746562]\n",
      "[1.1, 6.999843287746562]\n",
      "[1.1, 6.999843287746562]\n",
      "[1.1, 6.999843287746562]\n",
      "[1.1, 6.999843287746562]\n",
      "[1.1, 6.999843287746562]\n",
      "[1.1, 6.999843287746562]\n",
      "[1.1, 6.999843287746562]\n",
      "[2.9, 6.99989109826456]\n",
      "[2.9, 6.99989109826456]\n",
      "[2.9, 6.99989109826456]\n",
      "[2.9, 6.99989109826456]\n",
      "[2.9, 6.99989109826456]\n",
      "[2.9, 6.99989109826456]\n",
      "[2.9, 6.99989109826456]\n",
      "[2.9, 6.99989109826456]\n",
      "[2.9, 6.99989109826456]\n",
      "[2.9, 6.99989109826456]\n",
      "[3.6, 6.999909691243782]\n",
      "[3.6, 6.999909691243782]\n",
      "[3.6, 6.999909691243782]\n",
      "[3.6, 6.999909691243782]\n",
      "[3.6, 6.999909691243782]\n",
      "[3.6, 6.999909691243782]\n",
      "[3.6, 6.999909691243782]\n",
      "[3.6, 6.999909691243782]\n",
      "[3.6, 6.999909691243782]\n",
      "[3.6, 6.999909691243782]\n",
      "[7.0, 7.0]\n",
      "[7.0, 7.0]\n",
      "[7.0, 7.0]\n",
      "[7.0, 7.0]\n",
      "[7.0, 7.0]\n",
      "[7.0, 7.0]\n",
      "[7.0, 7.0]\n",
      "[7.0, 7.0]\n",
      "[7.0, 7.0]\n",
      "[7.0, 7.0]\n",
      "[5.8, 6.999968126321335]\n",
      "[5.8, 6.999968126321335]\n",
      "[5.8, 6.999968126321335]\n",
      "[5.8, 6.999968126321335]\n",
      "[5.8, 6.999968126321335]\n",
      "[5.8, 6.999968126321335]\n",
      "[5.8, 6.999968126321335]\n",
      "[5.8, 6.999968126321335]\n",
      "[5.8, 6.999968126321335]\n",
      "[5.8, 6.999968126321335]\n",
      "[0.0, 6.999814070207787]\n",
      "[0.0, 6.999814070207787]\n",
      "[0.0, 6.999814070207787]\n",
      "[0.0, 6.999814070207787]\n",
      "[0.0, 6.999814070207787]\n",
      "[0.0, 6.999814070207787]\n",
      "[0.0, 6.999814070207787]\n",
      "[0.0, 6.999814070207787]\n",
      "[0.0, 6.999814070207787]\n",
      "[0.0, 6.999814070207787]\n",
      "[3.3, 6.9999017228241165]\n",
      "[3.3, 6.9999017228241165]\n",
      "[3.3, 6.9999017228241165]\n",
      "[3.3, 6.9999017228241165]\n",
      "[3.3, 6.9999017228241165]\n",
      "[3.3, 6.9999017228241165]\n",
      "[3.3, 6.9999017228241165]\n",
      "[3.3, 6.9999017228241165]\n",
      "[3.3, 6.9999017228241165]\n",
      "[3.3, 6.9999017228241165]\n",
      "[6.2, 6.9999787508808895]\n",
      "[6.2, 6.9999787508808895]\n",
      "[6.2, 6.9999787508808895]\n",
      "[6.2, 6.9999787508808895]\n",
      "[6.2, 6.9999787508808895]\n",
      "[6.2, 6.9999787508808895]\n",
      "[6.2, 6.9999787508808895]\n",
      "[6.2, 6.9999787508808895]\n",
      "[6.2, 6.9999787508808895]\n",
      "[6.2, 6.9999787508808895]\n",
      "[0.4, 6.999824694767342]\n",
      "[0.4, 6.999824694767342]\n",
      "[0.4, 6.999824694767342]\n",
      "[0.4, 6.999824694767342]\n",
      "[0.4, 6.999824694767342]\n",
      "[0.4, 6.999824694767342]\n",
      "[0.4, 6.999824694767342]\n",
      "[0.4, 6.999824694767342]\n",
      "[0.4, 6.999824694767342]\n",
      "[0.4, 6.999824694767342]\n"
     ]
    }
   ],
   "source": [
    "for index, row in a.iloc[:,1:].iterrows():\n",
    "    print(list(row.to_dict().values()))"
   ]
  },
  {
   "cell_type": "code",
   "execution_count": null,
   "id": "7beef9df-a52d-4e20-9677-446aa0a7e4cc",
   "metadata": {},
   "outputs": [],
   "source": []
  },
  {
   "cell_type": "code",
   "execution_count": null,
   "id": "41e12e21-c1a4-4299-932e-a1850e0a8d33",
   "metadata": {},
   "outputs": [],
   "source": []
  }
 ],
 "metadata": {
  "kernelspec": {
   "display_name": "Python 3 (ipykernel)",
   "language": "python",
   "name": "python3"
  },
  "language_info": {
   "codemirror_mode": {
    "name": "ipython",
    "version": 3
   },
   "file_extension": ".py",
   "mimetype": "text/x-python",
   "name": "python",
   "nbconvert_exporter": "python",
   "pygments_lexer": "ipython3",
   "version": "3.11.9"
  }
 },
 "nbformat": 4,
 "nbformat_minor": 5
}
