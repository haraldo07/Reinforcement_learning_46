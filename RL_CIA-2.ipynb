{
 "cells": [
  {
   "cell_type": "code",
   "execution_count": 1,
   "id": "a7517874-116c-463e-a901-8b106e1c5fed",
   "metadata": {},
   "outputs": [],
   "source": [
    "import numpy as np\n",
    "import random"
   ]
  },
  {
   "cell_type": "code",
   "execution_count": 2,
   "id": "dcf7a50e-6e28-45a0-abc0-b0bd58aab722",
   "metadata": {},
   "outputs": [],
   "source": [
    "def add_obstacle(grid, start, end):\n",
    "    x0, y0 = start\n",
    "    x1, y1 = end\n",
    "\n",
    "    if x0 == x1:  # Vertical obstacle\n",
    "        for y in range(min(y0, y1), max(y0, y1) + 1):\n",
    "            grid[x0, y] = 1\n",
    "    elif y0 == y1:  # Horizontal obstacle\n",
    "        for x in range(min(x0, x1), max(x0, x1) + 1):\n",
    "            grid[x, y0] = 1\n",
    "\n",
    "    return grid\n",
    "\n",
    "def has_at_least_one_zero(grid):\n",
    "    \n",
    "    for row in grid:\n",
    "        if np.all(row == 1):\n",
    "            return False\n",
    "            \n",
    "    for col in grid.T:\n",
    "        if np.all(col == 1):\n",
    "            return False\n",
    "    return True"
   ]
  },
  {
   "cell_type": "code",
   "execution_count": 3,
   "id": "421893b3-79fd-4f87-a493-87de4d977a0b",
   "metadata": {},
   "outputs": [],
   "source": [
    "grid = np.zeros((31, 31), dtype='int16')\n",
    "num_obstacles = round(0.09 * len(grid.flatten()))\n",
    "for _ in range(num_obstacles):\n",
    "    while True:\n",
    "        start = (random.randint(1, grid.shape[0]-2), random.randint(1, grid.shape[0]-2))\n",
    "        end = (random.randint(1, grid.shape[0]-2), random.randint(1, grid.shape[0]-2))\n",
    "        if start != end:\n",
    "            if start[0]==end[0] or start[0]==end[1]:\n",
    "                temp_grid = grid.copy()  \n",
    "                temp_grid = add_obstacle(temp_grid, start, end)\n",
    "                if has_at_least_one_zero(temp_grid):\n",
    "                    grid = temp_grid\n",
    "                    break"
   ]
  },
  {
   "cell_type": "code",
   "execution_count": 4,
   "id": "9b8bf2f8-3cf9-463e-9074-5bdf39c3cc9c",
   "metadata": {},
   "outputs": [
    {
     "name": "stdout",
     "output_type": "stream",
     "text": [
      "[[0 0 0 0 0 0 0 0 0 0 0 0 0 0 0 0 0 0 0 0 0 0 0 0 0 0 0 0 0 0 0]\n",
      " [0 0 0 0 0 0 0 0 0 1 1 1 1 1 1 0 0 0 0 0 0 0 0 0 0 0 0 0 0 0 0]\n",
      " [0 0 0 1 1 1 1 1 1 1 1 1 1 1 1 1 1 1 1 1 1 1 1 1 1 1 0 0 0 0 0]\n",
      " [0 0 0 0 0 0 0 0 0 0 0 0 0 0 0 0 0 0 0 1 1 0 0 0 0 0 0 0 0 0 0]\n",
      " [0 0 0 0 0 0 0 0 0 0 0 0 0 0 0 0 0 0 0 0 0 0 0 0 0 0 0 0 0 0 0]\n",
      " [0 0 1 1 1 1 1 1 1 1 1 1 1 1 1 1 1 1 1 1 1 1 1 1 1 1 1 1 1 0 0]\n",
      " [0 0 0 0 0 0 0 0 0 0 0 0 0 0 0 0 0 0 0 0 0 0 0 0 0 0 0 0 0 0 0]\n",
      " [0 0 0 0 0 0 0 0 0 0 0 0 0 0 0 0 0 1 1 1 1 1 0 0 0 0 0 0 0 0 0]\n",
      " [0 0 0 0 0 0 0 0 0 0 0 0 0 0 0 1 1 1 1 1 1 1 1 1 1 1 1 1 1 0 0]\n",
      " [0 0 0 0 0 1 1 1 1 1 1 1 1 1 1 1 1 1 1 1 1 1 1 1 1 1 1 1 1 1 0]\n",
      " [0 0 0 0 0 0 0 0 0 0 0 0 0 0 0 0 0 0 0 0 0 0 0 0 0 0 0 0 0 0 0]\n",
      " [0 1 1 1 1 1 1 1 1 1 1 1 1 1 1 1 1 1 0 0 0 0 0 0 0 0 0 0 0 0 0]\n",
      " [0 0 0 0 0 0 0 0 0 0 0 0 1 1 1 1 1 1 1 1 1 1 0 0 0 0 0 0 0 0 0]\n",
      " [0 0 0 1 1 1 1 1 1 1 1 1 1 1 1 1 1 1 1 1 1 1 1 1 1 1 1 1 0 0 0]\n",
      " [0 0 0 0 0 0 0 0 1 1 1 1 0 0 0 0 0 0 0 0 0 0 0 0 0 0 0 1 1 1 0]\n",
      " [0 0 0 0 0 0 0 0 0 0 0 0 0 0 0 0 0 0 0 0 0 1 1 1 0 0 0 0 0 0 0]\n",
      " [0 0 0 0 0 0 0 0 0 0 0 0 0 0 0 0 0 0 0 0 0 0 0 1 1 1 1 1 1 1 0]\n",
      " [0 0 0 0 0 0 0 0 0 0 0 0 0 0 0 0 0 0 0 0 0 0 0 0 0 0 0 0 0 0 0]\n",
      " [0 0 0 0 0 0 0 0 0 0 0 0 0 0 0 0 0 0 0 0 0 0 0 1 1 1 1 0 0 0 0]\n",
      " [0 0 0 0 0 0 0 0 0 0 0 0 0 0 1 1 1 1 1 1 1 1 1 1 1 1 1 1 1 0 0]\n",
      " [0 0 1 1 1 1 1 1 1 1 1 1 1 1 1 1 1 1 1 1 1 1 1 1 1 1 1 0 0 0 0]\n",
      " [0 0 0 0 0 0 0 0 0 0 0 0 0 0 0 0 0 0 0 0 0 0 0 0 0 0 0 0 0 0 0]\n",
      " [0 0 0 0 0 0 0 0 0 0 0 0 0 0 0 1 1 1 1 1 1 1 1 0 0 0 0 0 1 1 0]\n",
      " [0 0 0 1 1 1 1 1 1 1 1 1 1 1 1 1 1 1 1 1 1 1 1 1 1 1 1 1 1 1 0]\n",
      " [0 0 0 0 0 0 1 1 1 1 1 0 0 0 0 0 0 0 0 0 0 0 0 0 0 0 0 0 0 0 0]\n",
      " [0 0 0 0 1 1 1 1 1 1 1 1 1 1 1 1 1 1 1 1 1 1 1 1 1 0 0 0 0 0 0]\n",
      " [0 0 0 1 1 1 1 1 1 1 1 1 1 1 1 1 1 1 1 1 1 1 1 1 1 1 1 0 0 0 0]\n",
      " [0 0 0 0 0 0 0 1 1 1 1 1 1 1 1 0 0 0 0 0 1 1 1 1 1 1 1 1 0 0 0]\n",
      " [0 0 0 0 1 1 1 1 1 1 1 1 1 1 1 1 1 1 1 0 0 0 0 0 0 0 0 0 0 0 0]\n",
      " [0 0 0 0 0 0 0 0 0 0 0 0 0 1 1 1 0 0 0 0 0 0 0 0 0 0 0 0 0 0 0]\n",
      " [0 0 0 0 0 0 0 0 0 0 0 0 0 0 0 0 0 0 0 0 0 0 0 0 0 0 0 0 0 0 0]]\n"
     ]
    }
   ],
   "source": [
    "print(grid)"
   ]
  },
  {
   "cell_type": "code",
   "execution_count": 2,
   "id": "a6e0e563-1d2a-400b-a6fe-db4ee63559bf",
   "metadata": {},
   "outputs": [],
   "source": [
    "import numpy as np\n",
    "import random\n",
    "\n",
    "def create_maze(grid_size):    \n",
    "    grid = np.ones((grid_size, grid_size), dtype=int)\n",
    "\n",
    "    start_x, start_y = (1, 1)\n",
    "    # grid[start_x, start_y] = 2\n",
    "\n",
    "    directions = [(0, 2), (2, 0), (0, -2), (-2, 0)]\n",
    "    \n",
    "    def carve(x, y):\n",
    "        \n",
    "        random.shuffle(directions)\n",
    "        for dx, dy in directions:\n",
    "            nx, ny = x + dx, y + dy\n",
    "            if 0 < nx < grid_size and 0 < ny < grid_size and grid[nx, ny] == 1:\n",
    "\n",
    "                grid[nx, ny] = 0\n",
    "                grid[x + dx // 2, y + dy // 2] = 0\n",
    "                carve(nx, ny)\n",
    "\n",
    "    carve(start_x, start_y)\n",
    "    \n",
    "    # grid[:, 0] = 0\n",
    "    # grid[0, :] = 0\n",
    "   \n",
    "    return grid"
   ]
  },
  {
   "cell_type": "code",
   "execution_count": 3,
   "id": "db8cc1bb-5b47-468d-a745-52d9ac5b325e",
   "metadata": {},
   "outputs": [
    {
     "name": "stdout",
     "output_type": "stream",
     "text": [
      "* * * * * * * * * * * * * * * *\n",
      "*       *       *       *      \n",
      "*   * * *   * * *   *   *   *  \n",
      "*       *           *       *  \n",
      "* * *   *   * * * * *   * * *  \n",
      "*       *   *       *   *      \n",
      "*   * * * * *   *   *   * * * *\n",
      "*   *           *   *          \n",
      "*   * * *   * * *   * * * * *  \n",
      "*           *               *  \n",
      "* * * * * * * * * * * * *   *  \n",
      "*                       *   *  \n",
      "*   * * * * *   * * * * *   *  \n",
      "*   *           *       *      \n",
      "*   *   * * * * *   *   * * *  \n",
      "*   *               *          \n"
     ]
    }
   ],
   "source": [
    "grid_size = 16\n",
    "    \n",
    "maze_grid = create_maze(grid_size)\n",
    "\n",
    "for row in maze_grid:\n",
    "    print(' '.join(['*' if cell == 1 else '$' if cell == 2 else ' ' for cell in row]))"
   ]
  },
  {
   "cell_type": "code",
   "execution_count": 4,
   "id": "ceb32ab3-20fa-4a42-9b16-fe3753078130",
   "metadata": {},
   "outputs": [
    {
     "data": {
      "text/plain": [
       "(16, 16)"
      ]
     },
     "execution_count": 4,
     "metadata": {},
     "output_type": "execute_result"
    }
   ],
   "source": [
    "maze_grid.shape"
   ]
  },
  {
   "cell_type": "code",
   "execution_count": 38,
   "id": "dfe8d4d2-ee3b-48ce-bd96-bf57122b7cd1",
   "metadata": {},
   "outputs": [],
   "source": [
    "class Maze_MDP:\n",
    "    def __init__(self, maze, start, goal):\n",
    "        self.maze = maze  # 0 for open space, 1 for walls\n",
    "        self.start = start\n",
    "        self.goal = goal\n",
    "        self.rows = maze.shape[0]\n",
    "        self.cols = maze.shape[1]\n",
    "        \n",
    "        # Define actions: up, down, left, right\n",
    "        self.actions = {\n",
    "            0: (-1, 0),  # up since indices are smaller when we go up\n",
    "            1: (1, 0),   # down\n",
    "            2: (0, -1),  # left\n",
    "            3: (0, 1)    # right\n",
    "        }\n",
    "        \n",
    "        self.reward_goal = 77\n",
    "        self.reward_move = -1\n",
    "        self.reward_obstacle = -17\n",
    "\n",
    "    def is_valid_state(self, state):\n",
    "        i, j = state\n",
    "        return 0 <= i < self.rows and 0 <= j < self.cols and self.maze[i, j] == 0\n",
    "\n",
    "    def transition(self, state, action):\n",
    "        dx, dy = self.actions[action]\n",
    "        new_state = (state[0] + dx, state[1] + dy)\n",
    "        if self.is_valid_state(new_state):\n",
    "            return new_state\n",
    "        return state  # stay in the same state if invalid\n",
    "\n",
    "    def get_reward(self, state):\n",
    "        if state == self.goal:\n",
    "            return self.reward_goal\n",
    "        if self.maze[state[0], state[1]] == 1:\n",
    "            return self.reward_obstacle  # only applicable if we move to an obstacle\n",
    "        return self.reward_move\n",
    "\n",
    "    def print_policy(self, policy):\n",
    "        actions = ['U', 'D', 'L', 'R']\n",
    "        for i in range(self.rows):\n",
    "            for j in range(self.cols):\n",
    "                if self.maze[i, j] == 1:  # Wall\n",
    "                    print(' ', end=\" | \")\n",
    "                elif (i, j) == self.goal:\n",
    "                    print('G', end=\" | \")  # Goal\n",
    "                else:\n",
    "                    print(actions[policy[i, j]], end=\" | \")\n",
    "            print()\n",
    "            print((j+1)*\"__|_\")"
   ]
  },
  {
   "cell_type": "code",
   "execution_count": 39,
   "id": "5b2461c7-bb7f-4abe-8da1-3147d6e77dc7",
   "metadata": {
    "scrolled": true
   },
   "outputs": [],
   "source": [
    "mdp = Maze_MDP(maze_grid, start=(1, 1), goal=(maze_grid.shape[0]-1, maze_grid.shape[1]-1))"
   ]
  },
  {
   "cell_type": "markdown",
   "id": "dafaa8c8-7fd2-450c-938a-9ed6fc0ff174",
   "metadata": {},
   "source": [
    "## Value Iteration"
   ]
  },
  {
   "cell_type": "code",
   "execution_count": 47,
   "id": "c21d1599-92d3-4787-be56-ab7050b0ab96",
   "metadata": {},
   "outputs": [],
   "source": [
    "def value_iteration(mdp, gamma=0.9, theta=1e-6):\n",
    "    V = np.zeros((mdp.rows, mdp.cols))\n",
    "    V[mdp.goal] = mdp.reward_goal  # Set value for the goal state    \n",
    "    \n",
    "    while True:    \n",
    "        delta = 0\n",
    "        for i in range(mdp.rows):\n",
    "            for j in range(mdp.cols):\n",
    "                if mdp.maze[i, j] == 1:\n",
    "                    # V[i, j] = mdp.reward_obstacle\n",
    "                    continue\n",
    "                \n",
    "                if (i, j) == mdp.goal:\n",
    "                    continue\n",
    "\n",
    "                v = V[i, j]\n",
    "                V[i, j] = max(\n",
    "                    mdp.get_reward((i, j)) + gamma * V[mdp.transition((i, j), a)]\n",
    "                    for a in range(len(mdp.actions))\n",
    "                )\n",
    "                delta = max(delta, abs(v - V[i, j]))                \n",
    "                \n",
    "        if delta < theta:\n",
    "            break\n",
    "    return V\n",
    "\n",
    "\n",
    "def extract_policy(mdp, V):\n",
    "    gamma = 0.9\n",
    "    policy = np.zeros((mdp.rows, mdp.cols), dtype=int)  # Initialize policy\n",
    "    for i in range(mdp.rows):\n",
    "        for j in range(mdp.cols):\n",
    "            if (i, j) == mdp.goal:\n",
    "                continue\n",
    "            # Find the action that maximizes the value\n",
    "            \n",
    "            best_action = max(range(len(mdp.actions)), \n",
    "                              key=lambda a: mdp.get_reward((i, j)) + \n",
    "                                            gamma * V[mdp.transition((i, j), a)])            \n",
    "            policy[i, j] = best_action  # Assign the best action to the policy\n",
    "    return policy"
   ]
  },
  {
   "cell_type": "code",
   "execution_count": 48,
   "id": "dde89a34-6d76-4fd6-842b-4157f80902f9",
   "metadata": {},
   "outputs": [
    {
     "name": "stdout",
     "output_type": "stream",
     "text": [
      "  |   |   |   |   |   |   |   |   |   |   |   |   |   |   |   | \n",
      "__|___|___|___|___|___|___|___|___|___|___|___|___|___|___|___|_\n",
      "  | D | L | L |   | D | L | L |   | R | R | D |   | D | L | L | \n",
      "__|___|___|___|___|___|___|___|___|___|___|___|___|___|___|___|_\n",
      "  | D |   |   |   | D |   |   |   | U |   | D |   | D |   | U | \n",
      "__|___|___|___|___|___|___|___|___|___|___|___|___|___|___|___|_\n",
      "  | R | R | D |   | R | R | R | R | U |   | D | L | L |   | U | \n",
      "__|___|___|___|___|___|___|___|___|___|___|___|___|___|___|___|_\n",
      "  |   |   | D |   | U |   |   |   |   |   | D |   |   |   | U | \n",
      "__|___|___|___|___|___|___|___|___|___|___|___|___|___|___|___|_\n",
      "  | D | L | L |   | U |   | R | R | D |   | D |   | R | R | U | \n",
      "__|___|___|___|___|___|___|___|___|___|___|___|___|___|___|___|_\n",
      "  | D |   |   |   |   |   | U |   | D |   | D |   |   |   |   | \n",
      "__|___|___|___|___|___|___|___|___|___|___|___|___|___|___|___|_\n",
      "  | D |   | R | R | R | R | U |   | D |   | R | R | R | R | D | \n",
      "__|___|___|___|___|___|___|___|___|___|___|___|___|___|___|___|_\n",
      "  | D |   |   |   | U |   |   |   | D |   |   |   |   |   | D | \n",
      "__|___|___|___|___|___|___|___|___|___|___|___|___|___|___|___|_\n",
      "  | R | R | R | R | U |   | R | R | R | R | R | R | D |   | D | \n",
      "__|___|___|___|___|___|___|___|___|___|___|___|___|___|___|___|_\n",
      "  |   |   |   |   |   |   |   |   |   |   |   |   | D |   | D | \n",
      "__|___|___|___|___|___|___|___|___|___|___|___|___|___|___|___|_\n",
      "  | R | R | R | R | R | R | D | L | L | L | L |   | D |   | D | \n",
      "__|___|___|___|___|___|___|___|___|___|___|___|___|___|___|___|_\n",
      "  | U |   |   |   |   |   | D |   |   |   |   |   | D |   | D | \n",
      "__|___|___|___|___|___|___|___|___|___|___|___|___|___|___|___|_\n",
      "  | U |   | D | L | L | L | L |   | R | R | D |   | R | R | D | \n",
      "__|___|___|___|___|___|___|___|___|___|___|___|___|___|___|___|_\n",
      "  | U |   | D |   |   |   |   |   | U |   | D |   |   |   | D | \n",
      "__|___|___|___|___|___|___|___|___|___|___|___|___|___|___|___|_\n",
      "  | U |   | R | R | R | R | R | R | U |   | R | R | R | R | G | \n",
      "__|___|___|___|___|___|___|___|___|___|___|___|___|___|___|___|_\n"
     ]
    }
   ],
   "source": [
    "V = value_iteration(mdp)\n",
    "policy_v = extract_policy(mdp, V)\n",
    "mdp.print_policy(policy_v)"
   ]
  },
  {
   "cell_type": "code",
   "execution_count": null,
   "id": "8139ca3d-d25c-4f36-b256-d8ec3c547c70",
   "metadata": {},
   "outputs": [],
   "source": []
  },
  {
   "cell_type": "markdown",
   "id": "8d65f7ad-73cf-4cc6-a439-2304d39b6d83",
   "metadata": {},
   "source": [
    "## Policy Iteration"
   ]
  },
  {
   "cell_type": "code",
   "execution_count": 49,
   "id": "3f2ae150-20dc-4f28-8577-339f026d789a",
   "metadata": {},
   "outputs": [],
   "source": [
    "def random_policy(mdp):    \n",
    "    policy = np.random.choice([0, 1, 2, 3], size=(mdp.rows, mdp.cols))\n",
    "    return policy\n",
    "\n",
    "def evaluate_policy(mdp, policy, gamma=0.9, threshold=1e-4):    \n",
    "    value = np.zeros((mdp.rows, mdp.cols))\n",
    "    \n",
    "    while True:\n",
    "        delta = 0\n",
    "        new_value = np.copy(value)\n",
    "        \n",
    "        for i in range(mdp.rows):\n",
    "            for j in range(mdp.cols):\n",
    "                state = (i, j)\n",
    "                if not mdp.is_valid_state(state):\n",
    "                    continue\n",
    "                \n",
    "                action = policy[i, j]\n",
    "                next_state = mdp.transition(state, action)\n",
    "                reward = mdp.get_reward(next_state)\n",
    "                \n",
    "                # Use the Bellman equation to update the value function\n",
    "                new_value[i, j] = reward + gamma * value[next_state[0], next_state[1]]\n",
    "                delta = max(delta, abs(new_value[i, j] - value[i, j]))\n",
    "        \n",
    "        value = new_value\n",
    "        if delta < threshold:\n",
    "            break\n",
    "    \n",
    "    return value\n",
    "\n",
    "def improve_policy(mdp, value, gamma=0.9):    \n",
    "    policy = np.zeros((mdp.rows, mdp.cols), dtype=int)\n",
    "    \n",
    "    for i in range(mdp.rows):\n",
    "        for j in range(mdp.cols):\n",
    "            state = (i, j)\n",
    "            if not mdp.is_valid_state(state):\n",
    "                continue\n",
    "            \n",
    "            state_values = []\n",
    "            for action in mdp.actions:\n",
    "                next_state = mdp.transition(state, action)\n",
    "                reward = mdp.get_reward(next_state)\n",
    "                state_value = reward + gamma * value[next_state[0], next_state[1]]\n",
    "                state_values.append(state_value)\n",
    "            \n",
    "            # Choose the action that maximizes the value\n",
    "            best_action = np.argmax(state_values)\n",
    "            policy[i, j] = best_action\n",
    "    \n",
    "    return policy\n",
    "\n",
    "def policy_iteration(mdp, gamma=0.9, threshold=1e-4):    \n",
    "    policy = random_policy(mdp)\n",
    "    while True:\n",
    "        value = evaluate_policy(mdp, policy, gamma, threshold)  # Policy evaluation\n",
    "        new_policy = improve_policy(mdp, value, gamma)  # Policy improvement\n",
    "        \n",
    "        # If the policy stops changing, we've converged\n",
    "        if np.array_equal(policy, new_policy):\n",
    "            break\n",
    "        \n",
    "        policy = new_policy\n",
    "    \n",
    "    return value, policy        "
   ]
  },
  {
   "cell_type": "code",
   "execution_count": 50,
   "id": "8ac647a3-9f62-4f4e-abea-b50443c08705",
   "metadata": {},
   "outputs": [
    {
     "name": "stdout",
     "output_type": "stream",
     "text": [
      "  |   |   |   |   |   |   |   |   |   |   |   |   |   |   |   | \n",
      "__|___|___|___|___|___|___|___|___|___|___|___|___|___|___|___|_\n",
      "  | D | L | L |   | D | L | L |   | R | R | D |   | D | L | L | \n",
      "__|___|___|___|___|___|___|___|___|___|___|___|___|___|___|___|_\n",
      "  | D |   |   |   | D |   |   |   | U |   | D |   | D |   | U | \n",
      "__|___|___|___|___|___|___|___|___|___|___|___|___|___|___|___|_\n",
      "  | R | R | D |   | R | R | R | R | U |   | D | L | L |   | U | \n",
      "__|___|___|___|___|___|___|___|___|___|___|___|___|___|___|___|_\n",
      "  |   |   | D |   | U |   |   |   |   |   | D |   |   |   | U | \n",
      "__|___|___|___|___|___|___|___|___|___|___|___|___|___|___|___|_\n",
      "  | D | L | L |   | U |   | R | R | D |   | D |   | R | R | U | \n",
      "__|___|___|___|___|___|___|___|___|___|___|___|___|___|___|___|_\n",
      "  | D |   |   |   |   |   | U |   | D |   | D |   |   |   |   | \n",
      "__|___|___|___|___|___|___|___|___|___|___|___|___|___|___|___|_\n",
      "  | D |   | R | R | R | R | U |   | D |   | R | R | R | R | D | \n",
      "__|___|___|___|___|___|___|___|___|___|___|___|___|___|___|___|_\n",
      "  | D |   |   |   | U |   |   |   | D |   |   |   |   |   | D | \n",
      "__|___|___|___|___|___|___|___|___|___|___|___|___|___|___|___|_\n",
      "  | R | R | R | R | U |   | R | R | R | R | R | R | D |   | D | \n",
      "__|___|___|___|___|___|___|___|___|___|___|___|___|___|___|___|_\n",
      "  |   |   |   |   |   |   |   |   |   |   |   |   | D |   | D | \n",
      "__|___|___|___|___|___|___|___|___|___|___|___|___|___|___|___|_\n",
      "  | R | R | R | R | R | R | D | L | L | L | L |   | D |   | D | \n",
      "__|___|___|___|___|___|___|___|___|___|___|___|___|___|___|___|_\n",
      "  | U |   |   |   |   |   | D |   |   |   |   |   | D |   | D | \n",
      "__|___|___|___|___|___|___|___|___|___|___|___|___|___|___|___|_\n",
      "  | U |   | D | L | L | L | L |   | R | R | D |   | R | R | D | \n",
      "__|___|___|___|___|___|___|___|___|___|___|___|___|___|___|___|_\n",
      "  | U |   | D |   |   |   |   |   | U |   | D |   |   |   | D | \n",
      "__|___|___|___|___|___|___|___|___|___|___|___|___|___|___|___|_\n",
      "  | U |   | R | R | R | R | R | R | U |   | R | R | R | R | G | \n",
      "__|___|___|___|___|___|___|___|___|___|___|___|___|___|___|___|_\n"
     ]
    }
   ],
   "source": [
    "value, policy_p = policy_iteration(mdp)\n",
    "mdp.print_policy(policy_p)"
   ]
  },
  {
   "cell_type": "code",
   "execution_count": 51,
   "id": "3064ed21-6129-48fc-ae82-6668515b0b48",
   "metadata": {},
   "outputs": [
    {
     "data": {
      "text/plain": [
       "array([[ True,  True,  True,  True,  True,  True,  True,  True,  True,\n",
       "        False, False, False,  True, False,  True,  True],\n",
       "       [ True,  True,  True,  True,  True,  True,  True,  True, False,\n",
       "         True,  True,  True, False,  True,  True,  True],\n",
       "       [ True,  True, False, False,  True,  True, False, False,  True,\n",
       "         True, False,  True, False,  True, False,  True],\n",
       "       [ True,  True,  True,  True,  True,  True,  True,  True,  True,\n",
       "         True, False,  True,  True,  True, False,  True],\n",
       "       [ True, False, False,  True,  True,  True, False, False, False,\n",
       "        False, False,  True, False,  True,  True,  True],\n",
       "       [ True,  True,  True,  True,  True,  True, False,  True,  True,\n",
       "         True, False,  True, False,  True,  True,  True],\n",
       "       [ True,  True, False, False,  True, False, False,  True, False,\n",
       "         True, False,  True, False, False, False, False],\n",
       "       [ True,  True,  True,  True,  True,  True,  True,  True, False,\n",
       "         True, False,  True,  True,  True,  True,  True],\n",
       "       [ True,  True,  True, False, False,  True, False, False, False,\n",
       "         True, False, False, False, False, False,  True],\n",
       "       [ True,  True,  True,  True,  True,  True, False,  True,  True,\n",
       "         True,  True,  True,  True,  True, False,  True],\n",
       "       [ True, False, False, False, False, False,  True,  True,  True,\n",
       "         True,  True,  True, False,  True, False,  True],\n",
       "       [ True,  True,  True,  True,  True,  True,  True,  True,  True,\n",
       "         True,  True,  True, False,  True, False,  True],\n",
       "       [ True,  True, False, False, False, False, False,  True, False,\n",
       "        False, False, False, False,  True, False,  True],\n",
       "       [ True,  True, False,  True,  True,  True,  True,  True, False,\n",
       "         True,  True,  True, False,  True,  True,  True],\n",
       "       [ True,  True, False,  True, False, False, False, False, False,\n",
       "         True, False,  True, False, False, False,  True],\n",
       "       [ True,  True, False,  True,  True,  True,  True,  True,  True,\n",
       "         True, False,  True,  True,  True,  True, False]])"
      ]
     },
     "execution_count": 51,
     "metadata": {},
     "output_type": "execute_result"
    }
   ],
   "source": [
    "policy_p==policy_v"
   ]
  },
  {
   "cell_type": "code",
   "execution_count": 53,
   "id": "975c57ab-d6c2-4ce4-a118-ff835d2cbded",
   "metadata": {},
   "outputs": [
    {
     "data": {
      "text/plain": [
       "array([[0, 0, 0, 0, 0, 0, 0, 0, 0, 1, 1, 1, 0, 1, 0, 0],\n",
       "       [0, 1, 2, 2, 0, 1, 2, 2, 3, 3, 3, 1, 2, 1, 2, 2],\n",
       "       [0, 1, 3, 2, 0, 1, 3, 2, 0, 0, 3, 1, 1, 1, 2, 0],\n",
       "       [0, 3, 3, 1, 0, 3, 3, 3, 3, 0, 3, 1, 2, 2, 2, 0],\n",
       "       [0, 2, 2, 1, 0, 0, 1, 1, 1, 1, 3, 1, 2, 0, 0, 0],\n",
       "       [0, 1, 2, 2, 0, 0, 3, 3, 3, 1, 3, 1, 2, 3, 3, 0],\n",
       "       [0, 1, 1, 2, 0, 2, 3, 0, 3, 1, 3, 1, 1, 1, 1, 1],\n",
       "       [0, 1, 0, 3, 3, 3, 3, 0, 3, 1, 3, 3, 3, 3, 3, 1],\n",
       "       [0, 1, 0, 2, 2, 0, 1, 1, 1, 1, 1, 1, 1, 1, 3, 1],\n",
       "       [0, 3, 3, 3, 3, 0, 3, 3, 3, 3, 3, 3, 3, 1, 3, 1],\n",
       "       [0, 2, 2, 2, 2, 2, 0, 0, 0, 0, 0, 0, 3, 1, 3, 1],\n",
       "       [0, 3, 3, 3, 3, 3, 3, 1, 2, 2, 2, 2, 3, 1, 3, 1],\n",
       "       [0, 0, 1, 1, 1, 1, 2, 1, 1, 1, 1, 1, 3, 1, 1, 1],\n",
       "       [0, 0, 3, 1, 2, 2, 2, 2, 3, 3, 3, 1, 3, 3, 3, 1],\n",
       "       [0, 0, 3, 1, 1, 1, 1, 1, 3, 0, 3, 1, 1, 1, 1, 1],\n",
       "       [0, 0, 3, 3, 3, 3, 3, 3, 3, 0, 3, 3, 3, 3, 3, 0]])"
      ]
     },
     "execution_count": 53,
     "metadata": {},
     "output_type": "execute_result"
    }
   ],
   "source": [
    "policy_v"
   ]
  },
  {
   "cell_type": "code",
   "execution_count": null,
   "id": "aa3d2028-2a40-4d17-baaf-e2c4d4343bef",
   "metadata": {},
   "outputs": [],
   "source": []
  }
 ],
 "metadata": {
  "kernelspec": {
   "display_name": "Python 3 (ipykernel)",
   "language": "python",
   "name": "python3"
  },
  "language_info": {
   "codemirror_mode": {
    "name": "ipython",
    "version": 3
   },
   "file_extension": ".py",
   "mimetype": "text/x-python",
   "name": "python",
   "nbconvert_exporter": "python",
   "pygments_lexer": "ipython3",
   "version": "3.11.9"
  }
 },
 "nbformat": 4,
 "nbformat_minor": 5
}
